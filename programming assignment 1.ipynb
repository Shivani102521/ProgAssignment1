{
 "cells": [
  {
   "cell_type": "code",
   "execution_count": 4,
   "id": "44f1f5c0",
   "metadata": {},
   "outputs": [
    {
     "name": "stdout",
     "output_type": "stream",
     "text": [
      "hello python\n"
     ]
    }
   ],
   "source": [
    "print (\"hello python\")"
   ]
  },
  {
   "cell_type": "code",
   "execution_count": 5,
   "id": "d77be357",
   "metadata": {},
   "outputs": [
    {
     "name": "stdout",
     "output_type": "stream",
     "text": [
      "6\n"
     ]
    }
   ],
   "source": [
    "a=2\n",
    "b=4\n",
    "print(a+b)"
   ]
  },
  {
   "cell_type": "code",
   "execution_count": 6,
   "id": "cefd2afa",
   "metadata": {},
   "outputs": [
    {
     "name": "stdout",
     "output_type": "stream",
     "text": [
      "0.5\n"
     ]
    }
   ],
   "source": [
    "a=2\n",
    "b=4\n",
    "print(a/b)"
   ]
  },
  {
   "cell_type": "code",
   "execution_count": 7,
   "id": "c85c9f70",
   "metadata": {},
   "outputs": [
    {
     "name": "stdout",
     "output_type": "stream",
     "text": [
      "input the base : 2\n",
      "input the height : 6\n",
      "area= 6.0\n"
     ]
    }
   ],
   "source": [
    "b=int(input(\"input the base : \" ))\n",
    "h=int(input(\"input the height : \"))\n",
    "area=b*h/2\n",
    "print(\"area=\", area)"
   ]
  },
  {
   "cell_type": "code",
   "execution_count": 10,
   "id": "f4bc18e4",
   "metadata": {},
   "outputs": [
    {
     "name": "stdout",
     "output_type": "stream",
     "text": [
      "value of a :  5\n",
      "value of b :  10\n"
     ]
    }
   ],
   "source": [
    "a=10\n",
    "b=5\n",
    "c=a\n",
    "a=b\n",
    "b=c\n",
    "print(\"value of a : \", a)\n",
    "print(\"value of b : \", b)"
   ]
  },
  {
   "cell_type": "code",
   "execution_count": 11,
   "id": "9b4fb7cb",
   "metadata": {},
   "outputs": [
    {
     "name": "stdout",
     "output_type": "stream",
     "text": [
      "0.307847625192908\n"
     ]
    }
   ],
   "source": [
    "import random\n",
    "num = random.random()\n",
    "print(num)"
   ]
  },
  {
   "cell_type": "code",
   "execution_count": null,
   "id": "bf979120",
   "metadata": {},
   "outputs": [],
   "source": []
  }
 ],
 "metadata": {
  "kernelspec": {
   "display_name": "Python 3 (ipykernel)",
   "language": "python",
   "name": "python3"
  },
  "language_info": {
   "codemirror_mode": {
    "name": "ipython",
    "version": 3
   },
   "file_extension": ".py",
   "mimetype": "text/x-python",
   "name": "python",
   "nbconvert_exporter": "python",
   "pygments_lexer": "ipython3",
   "version": "3.9.13"
  }
 },
 "nbformat": 4,
 "nbformat_minor": 5
}
